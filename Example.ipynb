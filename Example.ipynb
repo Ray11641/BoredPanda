{
 "cells": [
  {
   "cell_type": "code",
   "execution_count": null,
   "id": "460acd15",
   "metadata": {},
   "outputs": [
    {
     "name": "stderr",
     "output_type": "stream",
     "text": [
      "[nltk_data] Downloading package averaged_perceptron_tagger_eng to\n",
      "[nltk_data]     /home/ray/nltk_data...\n",
      "[nltk_data]   Package averaged_perceptron_tagger_eng is already up-to-\n",
      "[nltk_data]       date!\n",
      "[nltk_data] Downloading package punkt_tab to /home/ray/nltk_data...\n",
      "[nltk_data]   Package punkt_tab is already up-to-date!\n",
      "[nltk_data] Downloading package universal_tagset to\n",
      "[nltk_data]     /home/ray/nltk_data...\n",
      "[nltk_data]   Package universal_tagset is already up-to-date!\n"
     ]
    }
   ],
   "source": [
    "import nltk\n",
    "nltk.download('averaged_perceptron_tagger_eng')\n",
    "nltk.download('punkt_tab')\n",
    "nltk.download('universal_tagset')\n",
    "\n",
    "from typing import List\n",
    "from collections.abc import Callable\n",
    "import numpy as np\n",
    "\n",
    "from utils import *"
   ]
  },
  {
   "cell_type": "code",
   "execution_count": 13,
   "id": "4c69869d",
   "metadata": {},
   "outputs": [],
   "source": [
    "sentence = \"I have been waiting to meet you my good arid wife!\""
   ]
  },
  {
   "cell_type": "code",
   "execution_count": null,
   "id": "d7fd5a29",
   "metadata": {},
   "outputs": [],
   "source": [
    "tokens = nltk.word_tokenize(sentence)\n",
    "tags = nltk.pos_tag(tokens, tagset = \"universal\")"
   ]
  },
  {
   "cell_type": "code",
   "execution_count": null,
   "id": "e3834411",
   "metadata": {},
   "outputs": [],
   "source": [
    "def sentence_tokenizer(lemmatizer: Callable,\n",
    "                       s: str) -> List[int]:\n",
    "    tokens = nltk.word_tokens(s)\n",
    "    tags = nltk.pos_tag(tokens, tagset = 'universal')\n",
    "    \n",
    "    return [lemmatizer.lemmatize(word.lower(), pos = POS_LOOKUP[part_speech]) for word, part_speech in tags]"
   ]
  },
  {
   "cell_type": "code",
   "execution_count": null,
   "id": "16b8d42a",
   "metadata": {},
   "outputs": [],
   "source": [
    "lemmatizer = nltk.WordNetLemmatizer()"
   ]
  },
  {
   "cell_type": "code",
   "execution_count": null,
   "id": "054556aa",
   "metadata": {
    "scrolled": true
   },
   "outputs": [],
   "source": [
    "# direnv\n"
   ]
  },
  {
   "cell_type": "code",
   "execution_count": null,
   "id": "41a932ab",
   "metadata": {},
   "outputs": [],
   "source": []
  },
  {
   "cell_type": "code",
   "execution_count": null,
   "id": "1497144a",
   "metadata": {},
   "outputs": [],
   "source": [
    "nltk.download('universal_tagset')"
   ]
  },
  {
   "cell_type": "code",
   "execution_count": 24,
   "id": "52691e69",
   "metadata": {},
   "outputs": [],
   "source": [
    "import math\n",
    "def isPowerOfTwo(n: int) -> bool:\n",
    "    n = abs(n)\n",
    "    if n == 1:\n",
    "        return True\n",
    "    if n == 0:\n",
    "        return False\n",
    "    t = round(math.log(n, 2), 12)\n",
    "    t_int = math.trunc(t)\n",
    "    print(f\"t = {t}, int(t) = {t_int}\")\n",
    "    if t == t_int:\n",
    "        return True\n",
    "    else:\n",
    "        return False"
   ]
  },
  {
   "cell_type": "code",
   "execution_count": 25,
   "id": "3c3c0a8f",
   "metadata": {},
   "outputs": [
    {
     "name": "stdout",
     "output_type": "stream",
     "text": [
      "t = 30.999999998656, int(t) = 30\n"
     ]
    },
    {
     "data": {
      "text/plain": [
       "False"
      ]
     },
     "execution_count": 25,
     "metadata": {},
     "output_type": "execute_result"
    }
   ],
   "source": [
    "isPowerOfTwo(2147483646)"
   ]
  },
  {
   "cell_type": "code",
   "execution_count": 20,
   "id": "d366f7c2",
   "metadata": {},
   "outputs": [
    {
     "data": {
      "text/plain": [
       "0"
      ]
     },
     "execution_count": 20,
     "metadata": {},
     "output_type": "execute_result"
    }
   ],
   "source": [
    "4%2"
   ]
  },
  {
   "cell_type": "code",
   "execution_count": null,
   "id": "8f801c0e",
   "metadata": {},
   "outputs": [],
   "source": []
  }
 ],
 "metadata": {
  "kernelspec": {
   "display_name": "Torch",
   "language": "python",
   "name": "python3"
  },
  "language_info": {
   "codemirror_mode": {
    "name": "ipython",
    "version": 3
   },
   "file_extension": ".py",
   "mimetype": "text/x-python",
   "name": "python",
   "nbconvert_exporter": "python",
   "pygments_lexer": "ipython3",
   "version": "3.11.13"
  }
 },
 "nbformat": 4,
 "nbformat_minor": 5
}
