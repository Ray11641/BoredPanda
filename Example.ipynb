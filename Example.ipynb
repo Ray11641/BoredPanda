{
 "cells": [
  {
   "cell_type": "code",
   "execution_count": 1,
   "id": "460acd15",
   "metadata": {},
   "outputs": [],
   "source": [
    "import nltk"
   ]
  },
  {
   "cell_type": "code",
   "execution_count": 2,
   "id": "fe69fbfe",
   "metadata": {},
   "outputs": [],
   "source": [
    "from utils import *"
   ]
  },
  {
   "cell_type": "code",
   "execution_count": 3,
   "id": "4c69869d",
   "metadata": {},
   "outputs": [],
   "source": [
    "sentence = \"I have been waiting to meet you my good arid wife!\""
   ]
  },
  {
   "cell_type": "code",
   "execution_count": 4,
   "id": "d7fd5a29",
   "metadata": {},
   "outputs": [],
   "source": [
    "tokens = nltk.word_tokenize(sentence)\n",
    "tags = nltk.pos_tag(tokens, tagset = \"universal\")"
   ]
  },
  {
   "cell_type": "code",
   "execution_count": 5,
   "id": "16b8d42a",
   "metadata": {},
   "outputs": [],
   "source": [
    "lemmatizer = nltk.WordNetLemmatizer()"
   ]
  },
  {
   "cell_type": "code",
   "execution_count": 6,
   "id": "054556aa",
   "metadata": {
    "scrolled": true
   },
   "outputs": [
    {
     "data": {
      "text/plain": [
       "['i',\n",
       " 'have',\n",
       " 'be',\n",
       " 'wait',\n",
       " 'to',\n",
       " 'meet',\n",
       " 'you',\n",
       " 'my',\n",
       " 'good',\n",
       " 'arid',\n",
       " 'wife',\n",
       " '!']"
      ]
     },
     "execution_count": 6,
     "metadata": {},
     "output_type": "execute_result"
    }
   ],
   "source": [
    "[lemmatizer.lemmatize(word.lower(), pos = POS_LOOKUP[part_speech]) for word, part_speech in tags]"
   ]
  },
  {
   "cell_type": "code",
   "execution_count": null,
   "id": "41a932ab",
   "metadata": {},
   "outputs": [],
   "source": []
  },
  {
   "cell_type": "code",
   "execution_count": null,
   "id": "1497144a",
   "metadata": {},
   "outputs": [],
   "source": [
    "nltk.download('universal_tagset')"
   ]
  },
  {
   "cell_type": "code",
   "execution_count": null,
   "id": "52691e69",
   "metadata": {},
   "outputs": [],
   "source": []
  }
 ],
 "metadata": {
  "kernelspec": {
   "display_name": "Python 3 (ipykernel)",
   "language": "python",
   "name": "python3"
  },
  "language_info": {
   "codemirror_mode": {
    "name": "ipython",
    "version": 3
   },
   "file_extension": ".py",
   "mimetype": "text/x-python",
   "name": "python",
   "nbconvert_exporter": "python",
   "pygments_lexer": "ipython3",
   "version": "3.10.9"
  }
 },
 "nbformat": 4,
 "nbformat_minor": 5
}
