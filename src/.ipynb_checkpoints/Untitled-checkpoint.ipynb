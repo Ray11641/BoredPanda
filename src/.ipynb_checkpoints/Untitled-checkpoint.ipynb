{
 "cells": [
  {
   "cell_type": "code",
   "execution_count": 1,
   "id": "9da08c49",
   "metadata": {},
   "outputs": [],
   "source": [
    "import nltk"
   ]
  },
  {
   "cell_type": "code",
   "execution_count": 5,
   "id": "383f1981",
   "metadata": {},
   "outputs": [],
   "source": [
    "sentence = \"I have been waiting to meet you my good arid wife!\""
   ]
  },
  {
   "cell_type": "code",
   "execution_count": 6,
   "id": "8c2f1401",
   "metadata": {},
   "outputs": [],
   "source": [
    "tokens = nltk.word_tokenize(sentence)\n",
    "tags = nltk.pos_tag(tokens, tagset = \"universal\")"
   ]
  },
  {
   "cell_type": "code",
   "execution_count": null,
   "id": "7f45efbf",
   "metadata": {},
   "outputs": [],
   "source": [
    "lemmatizer = nltk.WordNetLemmatizer()"
   ]
  },
  {
   "cell_type": "code",
   "execution_count": null,
   "id": "0c789058",
   "metadata": {
    "scrolled": true
   },
   "outputs": [],
   "source": [
    "[lemmatizer.lemmatize(word.lower(), pos = part_speech) for word, part_speech in tags]"
   ]
  },
  {
   "cell_type": "code",
   "execution_count": 7,
   "id": "1f21d357",
   "metadata": {},
   "outputs": [
    {
     "data": {
      "text/plain": [
       "[('I', 'PRON'),\n",
       " ('have', 'VERB'),\n",
       " ('been', 'VERB'),\n",
       " ('waiting', 'VERB'),\n",
       " ('to', 'PRT'),\n",
       " ('meet', 'VERB'),\n",
       " ('you', 'PRON'),\n",
       " ('my', 'PRON'),\n",
       " ('good', 'ADJ'),\n",
       " ('arid', 'ADJ'),\n",
       " ('wife', 'NOUN'),\n",
       " ('!', '.')]"
      ]
     },
     "execution_count": 7,
     "metadata": {},
     "output_type": "execute_result"
    }
   ],
   "source": [
    "tags"
   ]
  },
  {
   "cell_type": "code",
   "execution_count": null,
   "id": "90d9c51b",
   "metadata": {},
   "outputs": [],
   "source": [
    "univ_pos_lookup = {\n",
    "                \"ADJ\": \"a\",\n",
    "                \"ADP\": \"n\",\n",
    "                \"ADV\": \"r\",\n",
    "                \"CONJ\": \"n\",\n",
    "                \"DET\": \"n\",\n",
    "                \"NOUN\": \"n\",\n",
    "                \"NUM\": \"n\",\n",
    "                \"PRT\": \"n\",\n",
    "                \"PRON\": \"n\",\n",
    "                \"VERB\": \"v\",\n",
    "                \".\": \"n\",\n",
    "                \"X\": \"n\"\n",
    "                    }"
   ]
  },
  {
   "cell_type": "code",
   "execution_count": null,
   "id": "056197b2",
   "metadata": {},
   "outputs": [],
   "source": [
    "nltk.download('universal_tagset')"
   ]
  },
  {
   "cell_type": "code",
   "execution_count": null,
   "id": "b3157e37",
   "metadata": {},
   "outputs": [],
   "source": []
  }
 ],
 "metadata": {
  "kernelspec": {
   "display_name": "Python 3 (ipykernel)",
   "language": "python",
   "name": "python3"
  },
  "language_info": {
   "codemirror_mode": {
    "name": "ipython",
    "version": 3
   },
   "file_extension": ".py",
   "mimetype": "text/x-python",
   "name": "python",
   "nbconvert_exporter": "python",
   "pygments_lexer": "ipython3",
   "version": "3.10.9"
  }
 },
 "nbformat": 4,
 "nbformat_minor": 5
}
